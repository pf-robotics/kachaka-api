{
 "cells": [
  {
   "cell_type": "markdown",
   "id": "a2e66355-2c68-41ec-97d7-dd788eec9c47",
   "metadata": {},
   "source": [
    "# 転移学習用のデータ保存"
   ]
  },
  {
   "cell_type": "code",
   "execution_count": null,
   "id": "bfd3e2a3-3dd5-429e-bfca-dc9da018e9b3",
   "metadata": {},
   "outputs": [],
   "source": [
    "import io\n",
    "import os\n",
    "import pickle\n",
    "import time\n",
    "\n",
    "import kachaka_api\n",
    "import numpy as np\n",
    "from IPython.display import Image, display\n",
    "from PIL import Image as PILImage"
   ]
  },
  {
   "cell_type": "code",
   "execution_count": null,
   "id": "1a608464-ed30-4a8a-9bda-b7f2f1501133",
   "metadata": {},
   "outputs": [],
   "source": [
    "client = kachaka_api.KachakaApiClient()\n",
    "\n",
    "os.makedirs(\"data\", exist_ok=True)\n",
    "data_num = 0"
   ]
  },
  {
   "cell_type": "markdown",
   "id": "d2f894dc-5e61-4977-983a-ff06c1bb29b8",
   "metadata": {},
   "source": [
    "撮影と保存 (繰り返し実行して下さい)"
   ]
  },
  {
   "cell_type": "code",
   "execution_count": null,
   "id": "3824c19c-f960-4bdb-936d-fdfe82a14d87",
   "metadata": {},
   "outputs": [],
   "source": [
    "now = time.time()\n",
    "\n",
    "while True:\n",
    "    image = client.get_front_camera_ros_compressed_image()\n",
    "    features_header, features = client.get_object_detection_features()\n",
    "    if now < image.header.stamp_nsec / 10e8 and now < features_header.stamp_nsec / 10e8:\n",
    "        break\n",
    "\n",
    "inputs = {\n",
    "    feature.name.replace(\"_out\", \"\"): np.array(feature.data, dtype=np.float32).reshape(\n",
    "        feature.shape\n",
    "    )\n",
    "    for feature in features\n",
    "}\n",
    "\n",
    "with open(f\"data/{data_num}.pkl\", \"wb\") as f:\n",
    "    pickle.dump(inputs, f)\n",
    "\n",
    "pil_image = PILImage.open(io.BytesIO(image.data))\n",
    "pil_image.save(f\"data/{data_num}.png\")\n",
    "\n",
    "Image(data=image.data, format=\"jpeg\")\n",
    "display(Image(data=image.data, format=\"jpeg\"))\n",
    "\n",
    "data_num += 1"
   ]
  },
  {
   "cell_type": "markdown",
   "id": "bf1e7345-428f-427a-a0c6-49d5109b184d",
   "metadata": {},
   "source": [
    "データ保存後、転移学習を行う方法については以下READMEをご覧下さい https://github.com/pf-robotics/kachaka-transfer-learning"
   ]
  }
 ],
 "metadata": {
  "kernelspec": {
   "display_name": "Python 3 (ipykernel)",
   "language": "python",
   "name": "python3"
  },
  "language_info": {
   "codemirror_mode": {
    "name": "ipython",
    "version": 3
   },
   "file_extension": ".py",
   "mimetype": "text/x-python",
   "name": "python",
   "nbconvert_exporter": "python",
   "pygments_lexer": "ipython3",
   "version": "3.10.12"
  }
 },
 "nbformat": 4,
 "nbformat_minor": 5
}
