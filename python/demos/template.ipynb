{
 "cells": [
  {
   "cell_type": "markdown",
   "id": "a5a4f017-d544-4ed3-98c6-7f319dbb4e9f",
   "metadata": {},
   "source": [
    "# カチャカAPI用テンプレート\n",
    "プログラム作成用のテンプレートです。コピーしてご利用下さい。"
   ]
  },
  {
   "cell_type": "code",
   "execution_count": null,
   "id": "b4cb3148-60d1-4cde-9d4e-b5afff245374",
   "metadata": {},
   "outputs": [],
   "source": [
    "# カチャカAPI初期設定\n",
    "import asyncio\n",
    "\n",
    "import kachaka_api\n",
    "\n",
    "client = kachaka_api.aio.KachakaApiClient()\n",
    "await client.update_resolver()\n",
    "await client.set_auto_homing_enabled(False)"
   ]
  },
  {
   "cell_type": "code",
   "execution_count": null,
   "id": "0c4b8d62-4115-4071-8ff4-39f0610ae432",
   "metadata": {},
   "outputs": [],
   "source": [
    "# ここにユーザプログラムを記述します\n",
    "await client.speak(\"こんにちは\")"
   ]
  }
 ],
 "metadata": {
  "kernelspec": {
   "display_name": "Python 3 (ipykernel)",
   "language": "python",
   "name": "python3"
  },
  "language_info": {
   "codemirror_mode": {
    "name": "ipython",
    "version": 3
   },
   "file_extension": ".py",
   "mimetype": "text/x-python",
   "name": "python",
   "nbconvert_exporter": "python",
   "pygments_lexer": "ipython3",
   "version": "3.10.12"
  }
 },
 "nbformat": 4,
 "nbformat_minor": 5
}
