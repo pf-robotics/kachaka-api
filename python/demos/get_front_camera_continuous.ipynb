{
 "cells": [
  {
   "cell_type": "markdown",
   "id": "4bcba01b-7d02-4d53-84b1-e5d71ae5b8f5",
   "metadata": {},
   "source": [
    "# カメラ画像の連続取得"
   ]
  },
  {
   "cell_type": "code",
   "execution_count": null,
   "id": "8d08024f-7938-4a12-8e9b-a24229816b10",
   "metadata": {},
   "outputs": [],
   "source": [
    "import kachaka_api\n",
    "from IPython.display import Image, clear_output, display"
   ]
  },
  {
   "cell_type": "code",
   "execution_count": null,
   "id": "ad074c66-1ac6-4888-8536-31da6c52a647",
   "metadata": {},
   "outputs": [],
   "source": [
    "client = kachaka_api.aio.KachakaApiClient()"
   ]
  },
  {
   "cell_type": "code",
   "execution_count": null,
   "id": "b712840e",
   "metadata": {},
   "outputs": [],
   "source": [
    "async for image in client.front_camera_ros_compressed_image.stream():\n",
    "    clear_output(wait=True)\n",
    "    display(Image(data=image.data, format=\"jpeg\"))"
   ]
  }
 ],
 "metadata": {
  "kernelspec": {
   "display_name": "Python 3 (ipykernel)",
   "language": "python",
   "name": "python3"
  },
  "language_info": {
   "codemirror_mode": {
    "name": "ipython",
    "version": 3
   },
   "file_extension": ".py",
   "mimetype": "text/x-python",
   "name": "python",
   "nbconvert_exporter": "python",
   "pygments_lexer": "ipython3",
   "version": "3.10.12"
  }
 },
 "nbformat": 4,
 "nbformat_minor": 5
}
