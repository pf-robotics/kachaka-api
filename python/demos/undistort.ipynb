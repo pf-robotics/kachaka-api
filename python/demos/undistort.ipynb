{
 "cells": [
  {
   "cell_type": "markdown",
   "id": "cfc9dc37-01ca-420e-9a90-f42210787fd0",
   "metadata": {},
   "source": [
    "# 画像の歪み補正\n",
    "\n",
    "opencvのインストールを行うコマンドが入っています。一度実行した後はこの処理はスキップ可能です。初回インストール後にkernelの再起動が必要です。"
   ]
  },
  {
   "cell_type": "code",
   "execution_count": null,
   "id": "0d32c6e2-7a7b-465e-9936-fe59b1082d47",
   "metadata": {},
   "outputs": [],
   "source": [
    "import cv2\n",
    "import kachaka_api\n",
    "import numpy as np\n",
    "from IPython.display import Image, display"
   ]
  },
  {
   "cell_type": "code",
   "execution_count": null,
   "id": "f19a6d81-71ae-4da1-9f1f-3ee5bae1b576",
   "metadata": {},
   "outputs": [],
   "source": [
    "client = kachaka_api.KachakaApiClient()"
   ]
  },
  {
   "cell_type": "code",
   "execution_count": null,
   "id": "39ba023d-a371-45a0-8766-7c0a61d57f48",
   "metadata": {},
   "outputs": [],
   "source": [
    "image = client.get_front_camera_ros_compressed_image()\n",
    "camera_info = client.get_front_camera_ros_camera_info()"
   ]
  },
  {
   "cell_type": "code",
   "execution_count": null,
   "id": "a576f88f-b9b9-47e3-a6bc-ae341019c77b",
   "metadata": {},
   "outputs": [],
   "source": [
    "cv_image = cv2.imdecode(np.frombuffer(image.data, dtype=np.uint8), flags=1)\n",
    "\n",
    "mtx = np.array(camera_info.K, dtype=float).reshape(3, 3)\n",
    "dist = np.array(camera_info.D)\n",
    "height = camera_info.height\n",
    "width = camera_info.width\n",
    "new_camera_mtx, roi = cv2.getOptimalNewCameraMatrix(\n",
    "    mtx, dist, (width, height), 0, (width, height)\n",
    ")\n",
    "map_x, map_y = cv2.initUndistortRectifyMap(\n",
    "    mtx, dist, None, new_camera_mtx, (width, height), 5\n",
    ")\n",
    "\n",
    "undistorted_image = cv2.remap(cv_image, map_x, map_y, cv2.INTER_LINEAR)"
   ]
  },
  {
   "cell_type": "code",
   "execution_count": null,
   "id": "c3904fc2-847c-4d51-a950-fa8f7d29c39f",
   "metadata": {},
   "outputs": [],
   "source": [
    "_, ret = cv2.imencode(\".png\", cv_image)\n",
    "display(Image(data=ret, format=\"png\"))"
   ]
  },
  {
   "cell_type": "code",
   "execution_count": null,
   "id": "ee3ae6fe-8293-4990-9f22-982355b4ce6f",
   "metadata": {},
   "outputs": [],
   "source": [
    "_, ret = cv2.imencode(\".png\", undistorted_image)\n",
    "display(Image(data=ret, format=\"png\"))"
   ]
  }
 ],
 "metadata": {
  "kernelspec": {
   "display_name": "Python 3 (ipykernel)",
   "language": "python",
   "name": "python3"
  },
  "language_info": {
   "codemirror_mode": {
    "name": "ipython",
    "version": 3
   },
   "file_extension": ".py",
   "mimetype": "text/x-python",
   "name": "python",
   "nbconvert_exporter": "python",
   "pygments_lexer": "ipython3",
   "version": "3.10.12"
  }
 },
 "nbformat": 4,
 "nbformat_minor": 5
}
