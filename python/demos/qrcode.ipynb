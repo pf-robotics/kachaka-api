{
 "cells": [
  {
   "cell_type": "markdown",
   "id": "316a3adc-c895-4b07-8bab-f5585005d2d3",
   "metadata": {},
   "source": [
    "# QRコード検出\n",
    "\n",
    "Opencvのインストールを行うコマンドが入っています。一度実行した後はこの処理はスキップ可能です。初回インストール後にkernelの再起動が必要です。"
   ]
  },
  {
   "cell_type": "code",
   "execution_count": null,
   "id": "fb7cf7ce-1fe1-46e8-b849-38da9800a6b9",
   "metadata": {},
   "outputs": [],
   "source": [
    "import cv2\n",
    "import kachaka_api\n",
    "import numpy as np\n",
    "from IPython.display import Image, clear_output, display"
   ]
  },
  {
   "cell_type": "code",
   "execution_count": null,
   "id": "11501be0-bf41-43a2-98aa-bd0e0e93d913",
   "metadata": {},
   "outputs": [],
   "source": [
    "client = kachaka_api.aio.KachakaApiClient()"
   ]
  },
  {
   "cell_type": "markdown",
   "id": "fb403f0a-34c4-4d69-9aac-44646b419d24",
   "metadata": {},
   "source": [
    "以下実行後、スマートフォンなどで https://pf-robotics.github.io/textcode/ にアクセスし、好きな英数字を入力して表示されたQRコードをカチャカの前カメラの前に近付けて下さい。"
   ]
  },
  {
   "cell_type": "code",
   "execution_count": null,
   "id": "32e4e1a0-f7d9-431f-bcf4-59cb3c604860",
   "metadata": {},
   "outputs": [],
   "source": [
    "qcd = cv2.QRCodeDetector()\n",
    "\n",
    "async for image in client.front_camera_ros_compressed_image.stream():\n",
    "    cv_image = cv2.imdecode(np.frombuffer(image.data, dtype=np.uint8), flags=1)\n",
    "    decoded_info, corners, _ = qcd.detectAndDecode(cv_image)\n",
    "    if corners is not None:\n",
    "        cv_image = cv2.polylines(cv_image, corners.astype(int), True, (0, 0, 255), 2)\n",
    "    if decoded_info != \"\":\n",
    "        cv_image = cv2.putText(\n",
    "            cv_image,\n",
    "            decoded_info,\n",
    "            corners[0][0].astype(int),\n",
    "            cv2.FONT_HERSHEY_SIMPLEX,\n",
    "            1,\n",
    "            (0, 0, 255),\n",
    "            2,\n",
    "            cv2.LINE_AA,\n",
    "        )\n",
    "    _, ret = cv2.imencode(\n",
    "        \".jpg\",\n",
    "        cv2.resize(cv_image, (int(cv_image.shape[1] / 2), int(cv_image.shape[0] / 2))),\n",
    "    )\n",
    "    clear_output(wait=True)\n",
    "    display(Image(data=ret, format=\"jpeg\"))"
   ]
  }
 ],
 "metadata": {
  "kernelspec": {
   "display_name": "Python 3 (ipykernel)",
   "language": "python",
   "name": "python3"
  },
  "language_info": {
   "codemirror_mode": {
    "name": "ipython",
    "version": 3
   },
   "file_extension": ".py",
   "mimetype": "text/x-python",
   "name": "python",
   "nbconvert_exporter": "python",
   "pygments_lexer": "ipython3",
   "version": "3.10.12"
  }
 },
 "nbformat": 4,
 "nbformat_minor": 5
}
