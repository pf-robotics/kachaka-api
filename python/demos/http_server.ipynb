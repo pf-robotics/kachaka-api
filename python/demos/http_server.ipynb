{
 "cells": [
  {
   "cell_type": "markdown",
   "id": "62432d31-6c66-49f7-b229-77693bb53a9c",
   "metadata": {},
   "source": [
    "# HTTPサーバー\n",
    "\n",
    "HTTPサーバーを実行し、GETリクエストを受信したときにカチャカに対して指令を送るサンプルです。\n",
    "以下のアドレスにカチャカボタンHubなどからGETを送信することで、希望の指令を送ることができます。\n",
    "```\n",
    "http://<カチャカのIPアドレス>:26502/run\n",
    "```"
   ]
  },
  {
   "cell_type": "code",
   "execution_count": null,
   "id": "278e20f6-a311-41cd-9fa0-3532dae6947c",
   "metadata": {},
   "outputs": [],
   "source": [
    "import asyncio\n",
    "\n",
    "import kachaka_api\n",
    "import nest_asyncio\n",
    "import uvicorn\n",
    "from fastapi import BackgroundTasks, FastAPI\n",
    "\n",
    "app = FastAPI()\n",
    "client = kachaka_api.aio.KachakaApiClient()\n",
    "lock = asyncio.Lock()\n",
    "\n",
    "\n",
    "async def send_command():\n",
    "    await client.speak(\"カチャカです、よろしくね！\")\n",
    "    print(\"send_command finished.\")\n",
    "\n",
    "\n",
    "async def run_task():\n",
    "    if lock.locked():\n",
    "        print(\"Another task is already running. Skip.\")\n",
    "        return\n",
    "    async with lock:\n",
    "        await send_command()\n",
    "\n",
    "\n",
    "@app.get(\"/run\")\n",
    "async def handle_get_run(background_tasks: BackgroundTasks):\n",
    "    background_tasks.add_task(run_task)\n",
    "    return {\"success\": True}\n",
    "\n",
    "\n",
    "nest_asyncio.apply()  # JupyterLab内でuvicornを走らせるために必要\n",
    "uvicorn.run(app, host=\"0.0.0.0\", port=26502)"
   ]
  }
 ],
 "metadata": {
  "kernelspec": {
   "display_name": "Python 3 (ipykernel)",
   "language": "python",
   "name": "python3"
  },
  "language_info": {
   "codemirror_mode": {
    "name": "ipython",
    "version": 3
   },
   "file_extension": ".py",
   "mimetype": "text/x-python",
   "name": "python",
   "nbconvert_exporter": "python",
   "pygments_lexer": "ipython3",
   "version": "3.10.12"
  }
 },
 "nbformat": 4,
 "nbformat_minor": 5
}
