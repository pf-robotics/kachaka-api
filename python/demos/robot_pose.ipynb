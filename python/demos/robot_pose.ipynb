{
 "cells": [
  {
   "cell_type": "markdown",
   "id": "bff64587-9e3b-497d-b84a-efe7e7f44542",
   "metadata": {},
   "source": [
    "# ロボットの姿勢の取得と設定"
   ]
  },
  {
   "cell_type": "code",
   "execution_count": 14,
   "id": "4285980c-e213-41e8-9c49-d8e6b464551c",
   "metadata": {},
   "outputs": [],
   "source": [
    "# カチャカAPI初期設定\n",
    "import asyncio\n",
    "import time\n",
    "\n",
    "import kachaka_api\n",
    "\n",
    "client = kachaka_api.aio.KachakaApiClient()"
   ]
  },
  {
   "cell_type": "markdown",
   "id": "cca755ac-89ab-41f9-a45b-003716eb673a",
   "metadata": {},
   "source": [
    "## ロボットの現在姿勢の取得"
   ]
  },
  {
   "cell_type": "code",
   "execution_count": 12,
   "id": "d091f8bf-0dbd-4823-a27e-84030942c165",
   "metadata": {},
   "outputs": [
    {
     "name": "stdout",
     "output_type": "stream",
     "text": [
      "pose.x=2.00, pose.y=1.00, pose.theta=-0.00\n"
     ]
    }
   ],
   "source": [
    "pose = await client.get_robot_pose()\n",
    "print(f\"{pose.x=:.2f}, {pose.y=:.2f}, {pose.theta=:.2f}\")"
   ]
  },
  {
   "cell_type": "markdown",
   "id": "02f5c354-4e20-464c-969f-e220f8ff2e8e",
   "metadata": {},
   "source": [
    "## ロボットの現在姿勢の設定\n",
    "反映までに少し時間がかかります。"
   ]
  },
  {
   "cell_type": "code",
   "execution_count": 18,
   "id": "f77cb3c0-4b53-41d4-b480-bdec47dcd5e6",
   "metadata": {},
   "outputs": [
    {
     "name": "stdout",
     "output_type": "stream",
     "text": [
      "result.success=True\n"
     ]
    }
   ],
   "source": [
    "result = await client.set_robot_pose({\"x\": 0.0, \"y\": 1.0, \"theta\": 0.0})\n",
    "print(f\"{result.success=}\")"
   ]
  },
  {
   "cell_type": "code",
   "execution_count": 16,
   "id": "023b0afb-9f77-47b5-a320-252618e8739f",
   "metadata": {},
   "outputs": [
    {
     "name": "stdout",
     "output_type": "stream",
     "text": [
      "result.success=True\n",
      "pose.x=0.00, pose.y=-0.00, pose.theta=-0.00\n"
     ]
    }
   ],
   "source": [
    "result = await client.set_robot_pose({\"x\": 2.0, \"y\": 1.0, \"theta\": 0.0})\n",
    "print(f\"{result.success=}\")\n",
    "\n",
    "# wait for requested pose to be reflected\n",
    "time.sleep(5)\n",
    "\n",
    "pose = await client.get_robot_pose()\n",
    "print(f\"{pose.x=:.2f}, {pose.y=:.2f}, {pose.theta=:.2f}\")"
   ]
  },
  {
   "cell_type": "code",
   "execution_count": null,
   "id": "155af42d-a70a-49a7-9703-21ace7bb8c3e",
   "metadata": {},
   "outputs": [],
   "source": []
  }
 ],
 "metadata": {
  "kernelspec": {
   "display_name": "Python 3 (ipykernel)",
   "language": "python",
   "name": "python3"
  },
  "language_info": {
   "codemirror_mode": {
    "name": "ipython",
    "version": 3
   },
   "file_extension": ".py",
   "mimetype": "text/x-python",
   "name": "python",
   "nbconvert_exporter": "python",
   "pygments_lexer": "ipython3",
   "version": "3.10.12"
  }
 },
 "nbformat": 4,
 "nbformat_minor": 5
}
