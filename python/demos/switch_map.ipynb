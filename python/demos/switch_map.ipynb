{
 "cells": [
  {
   "cell_type": "markdown",
   "id": "589885a6-c386-42fa-8a91-c2b580fea485",
   "metadata": {},
   "source": [
    "# 地図切り替え"
   ]
  },
  {
   "cell_type": "markdown",
   "id": "3f43fffd-f65e-4f8f-84c6-a12d286fe14e",
   "metadata": {},
   "source": [
    "地図を切り替えるサンプルです。初期姿勢を指定しつつ地図を切り替えることも可能です。"
   ]
  },
  {
   "cell_type": "code",
   "execution_count": null,
   "id": "c9e8ea2c-3899-467a-bbb5-f96dccc9fa9a",
   "metadata": {},
   "outputs": [],
   "source": [
    "from typing import Optional\n",
    "\n",
    "import kachaka_api"
   ]
  },
  {
   "cell_type": "code",
   "execution_count": null,
   "id": "a362c28b-5ff3-4334-93b5-ef940f6a0643",
   "metadata": {},
   "outputs": [],
   "source": [
    "client = kachaka_api.aio.KachakaApiClient()"
   ]
  },
  {
   "cell_type": "markdown",
   "id": "711fc98f-10d5-47a5-8417-2b5e979b9438",
   "metadata": {},
   "source": [
    "以下で現在保存されている地図の一覧を取得することができます。\n",
    "\n",
    "本サンプルの地図切り替えには、最低でも２つの地図が必要になるので、用意していない場合はアプリから地図を作成してください。"
   ]
  },
  {
   "cell_type": "code",
   "execution_count": null,
   "id": "e7e63061-8e27-4b75-82da-e1c524b94da3",
   "metadata": {},
   "outputs": [],
   "source": [
    "map_list = await client.get_map_list()\n",
    "if len(map_list) < 2:\n",
    "    print(\"please create more than two maps to demonstrate map switch\")\n",
    "    exit(-1)\n",
    "\n",
    "for map_id in map_list:\n",
    "    print(f\"{map_id=}\")"
   ]
  },
  {
   "cell_type": "markdown",
   "id": "04e029db-a1e1-4384-9986-5b224a33a059",
   "metadata": {},
   "source": [
    "地図を切り替えていきます。\n",
    "\n",
    "まずは、初期姿勢を指定せずに地図切り替えをします。\n",
    "この場合は、現在の地図における充電器の姿勢が初期位置として採用されます。"
   ]
  },
  {
   "cell_type": "code",
   "execution_count": null,
   "id": "2a0c598b-7686-4b1a-8baf-8681d5d51289",
   "metadata": {},
   "outputs": [],
   "source": [
    "async def find_target_map_id(client: kachaka_api.aio.KachakaApiClient) -> Optional[str]:\n",
    "    map_list = await client.get_map_list()\n",
    "    current_map_id = await client.get_current_map_id()\n",
    "\n",
    "    target_map = next(filter(lambda x: x.id != current_map_id, map_list), None)\n",
    "    return target_map.id"
   ]
  },
  {
   "cell_type": "code",
   "execution_count": null,
   "id": "0054f98c-8227-4c2e-9c4b-771ab7daa184",
   "metadata": {},
   "outputs": [],
   "source": [
    "target_map_id = await find_target_map_id(client)\n",
    "if not target_map_id:\n",
    "    print(\"could not find any target map candidate\")\n",
    "    exit(-1)\n",
    "\n",
    "print(f\"{target_map_id=}\")\n",
    "await client.switch_map(target_map_id)"
   ]
  },
  {
   "cell_type": "markdown",
   "id": "c7736605-86d2-4644-a8c7-c5330b27f0c4",
   "metadata": {},
   "source": [
    "現在選択されている地図のIDを読み取って、実際に地図が切り替わっていることを確認しましょう。"
   ]
  },
  {
   "cell_type": "code",
   "execution_count": null,
   "id": "aa4cb76b-a352-4474-b43d-49f6089693ee",
   "metadata": {},
   "outputs": [],
   "source": [
    "current_map_id = await client.get_current_map_id()\n",
    "print(f\"{current_map_id=}\")"
   ]
  },
  {
   "cell_type": "markdown",
   "id": "c5763be9-6b56-438c-89f8-bab251f91fea",
   "metadata": {},
   "source": [
    "地図を切り替えたときの初期姿勢を明示することもできます。"
   ]
  },
  {
   "cell_type": "code",
   "execution_count": null,
   "id": "8aed79d5-4988-4521-bf34-8c452a5a3035",
   "metadata": {},
   "outputs": [],
   "source": [
    "target_map_id = await find_target_map_id(client)\n",
    "if not target_map_id:\n",
    "    print(\"could not find any target map candidate\")\n",
    "    exit(-1)\n",
    "\n",
    "print(f\"{target_map_id=}\")\n",
    "await client.switch_map(target_map_id, pose={\"x\": 0.0, \"y\": 0.0, \"theta\": 0.0})"
   ]
  },
  {
   "cell_type": "markdown",
   "id": "7845717b-bbad-4a8b-92e3-41c2a04848ac",
   "metadata": {},
   "source": [
    "実際に地図が切り替わっていることを確認しましょう。"
   ]
  },
  {
   "cell_type": "code",
   "execution_count": null,
   "id": "a9d7930d-973c-49f0-aad8-6d263bacd828",
   "metadata": {},
   "outputs": [],
   "source": [
    "current_map_id = await client.get_current_map_id()\n",
    "print(f\"{current_map_id=}\")"
   ]
  },
  {
   "cell_type": "code",
   "execution_count": null,
   "id": "4bfac442-c7b4-4831-a231-9e3a9e836ea2",
   "metadata": {},
   "outputs": [],
   "source": []
  }
 ],
 "metadata": {
  "kernelspec": {
   "display_name": "Python 3 (ipykernel)",
   "language": "python",
   "name": "python3"
  },
  "language_info": {
   "codemirror_mode": {
    "name": "ipython",
    "version": 3
   },
   "file_extension": ".py",
   "mimetype": "text/x-python",
   "name": "python",
   "nbconvert_exporter": "python",
   "pygments_lexer": "ipython3",
   "version": "3.12.2"
  }
 },
 "nbformat": 4,
 "nbformat_minor": 5
}
