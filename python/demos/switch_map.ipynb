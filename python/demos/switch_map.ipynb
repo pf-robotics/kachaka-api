{
 "cells": [
  {
   "cell_type": "markdown",
   "id": "589885a6-c386-42fa-8a91-c2b580fea485",
   "metadata": {},
   "source": [
    "# 地図切り替え"
   ]
  },
  {
   "cell_type": "markdown",
   "id": "3f43fffd-f65e-4f8f-84c6-a12d286fe14e",
   "metadata": {},
   "source": [
    "地図を切り替えるサンプルです。初期姿勢を指定しつつ地図を切り替えることも可能です。"
   ]
  },
  {
   "cell_type": "code",
   "execution_count": 19,
   "id": "c9e8ea2c-3899-467a-bbb5-f96dccc9fa9a",
   "metadata": {},
   "outputs": [],
   "source": [
    "from typing import Optional\n",
    "\n",
    "import kachaka_api"
   ]
  },
  {
   "cell_type": "code",
   "execution_count": 6,
   "id": "a362c28b-5ff3-4334-93b5-ef940f6a0643",
   "metadata": {},
   "outputs": [],
   "source": [
    "client = kachaka_api.aio.KachakaApiClient()"
   ]
  },
  {
   "cell_type": "markdown",
   "id": "711fc98f-10d5-47a5-8417-2b5e979b9438",
   "metadata": {},
   "source": [
    "以下で現在保存されている地図の一覧を取得することができます。\n",
    "\n",
    "本サンプルの地図切り替えには、最低でも２つの地図が必要になるので、用意していない場合はアプリから地図を作成してください。"
   ]
  },
  {
   "cell_type": "code",
   "execution_count": 7,
   "id": "e7e63061-8e27-4b75-82da-e1c524b94da3",
   "metadata": {},
   "outputs": [
    {
     "name": "stdout",
     "output_type": "stream",
     "text": [
      "map_id=id: \"6525b9f1-3bef-42cf-bb7d-27d4bc74bc6c\"\n",
      "name: \"マップ1\"\n",
      "\n",
      "map_id=id: \"a7a9a26d-4193-4e3d-a080-34e7e92c9508\"\n",
      "name: \"map\"\n",
      "\n",
      "map_id=id: \"d3a5498a-b057-4a1b-b42b-526beb99ba83\"\n",
      "name: \"map\"\n",
      "\n",
      "map_id=id: \"1c3fd00d-a3e2-4935-8c9e-3c061f286686\"\n",
      "name: \"map\"\n",
      "\n",
      "map_id=id: \"9c0550e1-754f-4657-8d1c-3f418a20f881\"\n",
      "name: \"マップ33\"\n",
      "\n",
      "map_id=id: \"ff8bdd80-fb85-4014-8b17-8ee32fbf4d1a\"\n",
      "name: \"マップ34\"\n",
      "\n",
      "map_id=id: \"1f973dd7-2a88-4088-adee-d0be43967653\"\n",
      "name: \"マップ35\"\n",
      "\n",
      "map_id=id: \"25f94ada-f3bc-438b-88b7-5df7dc4fb34d\"\n",
      "name: \"マップ36\"\n",
      "\n",
      "map_id=id: \"bae591c0-be49-4869-9562-b27f3d807bde\"\n",
      "name: \"マップ37\"\n",
      "\n",
      "map_id=id: \"3a356e2e-6d96-47e3-ad0d-b9cc994a2054\"\n",
      "name: \"マップ38\"\n",
      "\n",
      "map_id=id: \"52a4eb28-9298-4acc-802f-05101d74c21c\"\n",
      "name: \"マップ39\"\n",
      "\n",
      "map_id=id: \"265d6f50-57e6-41f9-a955-b1ac2fabc10c\"\n",
      "name: \"マップ42\"\n",
      "\n",
      "map_id=id: \"7db68e8a-e71f-40c5-87d7-a9add763e8ca\"\n",
      "name: \"マップ43\"\n",
      "\n",
      "map_id=id: \"8e8345b4-41c2-4f96-8a7f-1ac8ea9f2b53\"\n",
      "name: \"マップ44\"\n",
      "\n",
      "map_id=id: \"fc05653c-e108-4c80-8483-9fe1aaf54b9a\"\n",
      "name: \"マップ45\"\n",
      "\n",
      "map_id=id: \"142f982b-eb1a-4e05-9212-3c064e2e0bb5\"\n",
      "name: \"マップ46\"\n",
      "\n",
      "map_id=id: \"dd45aa1a-d4e5-4215-893c-8edf28f3baf9\"\n",
      "name: \"マップ47\"\n",
      "\n",
      "map_id=id: \"42d95dfe-38e6-4611-951a-0458bc478fef\"\n",
      "name: \"map_expanded\"\n",
      "\n",
      "map_id=id: \"f7a69d5c-b15f-466a-982f-c4b5124e09d1\"\n",
      "name: \"マップ40\"\n",
      "\n",
      "map_id=id: \"3d7f1144-58ba-44a1-a6df-850f8678300c\"\n",
      "name: \"マップ41\"\n",
      "\n",
      "map_id=id: \"bd8e7428-1e2b-40e6-9c4d-c170ae461c67\"\n",
      "name: \"マップ48\"\n",
      "\n",
      "map_id=id: \"64ed6730-8f14-4efa-baff-d1ad187fe474\"\n",
      "name: \"マップ49\"\n",
      "\n",
      "map_id=id: \"d9d4238c-8717-4e51-afc5-af3e2487dc59\"\n",
      "name: \"マップ50\"\n",
      "\n",
      "map_id=id: \"d30a9703-d5b0-406e-8f1f-8f493ebefc3b\"\n",
      "name: \"マップ51\"\n",
      "\n",
      "map_id=id: \"73621724-defb-4094-8945-a4c1b4fda09a\"\n",
      "name: \"マップ52\"\n",
      "\n",
      "map_id=id: \"e701a9cf-7cff-46cb-8db3-4c5f753ac1ae\"\n",
      "name: \"マップ53\"\n",
      "\n",
      "map_id=id: \"66800d6c-eedd-4165-8442-70e953b77f63\"\n",
      "name: \"マップ54\"\n",
      "\n",
      "map_id=id: \"852f5c04-65f8-4dd5-a45a-3156eb32a3da\"\n",
      "name: \"map_ext\"\n",
      "\n",
      "map_id=id: \"3ab35157-fd83-4fd7-93f0-0eb821c5d3f9\"\n",
      "name: \"map\"\n",
      "\n",
      "map_id=id: \"2eadd0b5-2a6c-4aae-800e-2644c5dec823\"\n",
      "name: \"マップ55\"\n",
      "\n",
      "map_id=id: \"95541042-6772-4464-9de9-7d4f9dadbf80\"\n",
      "name: \"マップ56\"\n",
      "\n",
      "map_id=id: \"ad1dcf5d-1a60-4b7f-85e9-e77022b546c4\"\n",
      "name: \"マップ57\"\n",
      "\n",
      "map_id=id: \"38b65efc-fe89-47d8-8695-c9b69d166b40\"\n",
      "name: \"ext\"\n",
      "\n",
      "map_id=id: \"415d6a76-ae96-40f0-83fd-d72f6c201fe4\"\n",
      "name: \"マップ58\"\n",
      "\n",
      "map_id=id: \"89500ff4-3251-4a09-abf7-ee83f2a6a8a7\"\n",
      "name: \"マップ59\"\n",
      "\n",
      "map_id=id: \"fd407065-216b-4e65-bc49-d8f20e692618\"\n",
      "name: \"マップ60\"\n",
      "\n",
      "map_id=id: \"b0766870-596f-4bb7-ac56-6292ed105846\"\n",
      "name: \"map_exp\"\n",
      "\n"
     ]
    }
   ],
   "source": [
    "map_list = await client.get_map_list()\n",
    "if len(map_list) < 2:\n",
    "    print(\"please create more files to demonstrate map switch\")\n",
    "    exit(-1)\n",
    "\n",
    "for map_id in map_list:\n",
    "    print(f\"{map_id=}\")"
   ]
  },
  {
   "cell_type": "markdown",
   "id": "04e029db-a1e1-4384-9986-5b224a33a059",
   "metadata": {},
   "source": [
    "地図を切り替えていきます。\n",
    "\n",
    "まずは、初期姿勢を指定せずに地図切り替えをします。\n",
    "こうすると切り替え直前のロボットの姿勢が、次の地図におけるロボットの初期姿勢となります。"
   ]
  },
  {
   "cell_type": "code",
   "execution_count": 22,
   "id": "2a0c598b-7686-4b1a-8baf-8681d5d51289",
   "metadata": {},
   "outputs": [],
   "source": [
    "async def find_target_map_id(client: kachaka_api.aio.KachakaApiClient) -> Optional[str]:\n",
    "    map_list = await client.get_map_list()\n",
    "    current_map_id = await client.get_current_map_id()\n",
    "\n",
    "    target_map = next(filter(lambda x: x.id != current_map_id, map_list), None)\n",
    "    return target_map.id"
   ]
  },
  {
   "cell_type": "code",
   "execution_count": 23,
   "id": "0054f98c-8227-4c2e-9c4b-771ab7daa184",
   "metadata": {},
   "outputs": [
    {
     "name": "stdout",
     "output_type": "stream",
     "text": [
      "target_map_id='6525b9f1-3bef-42cf-bb7d-27d4bc74bc6c'\n"
     ]
    },
    {
     "data": {
      "text/plain": [
       "success: true"
      ]
     },
     "execution_count": 23,
     "metadata": {},
     "output_type": "execute_result"
    }
   ],
   "source": [
    "target_map_id = await find_target_map_id(client)\n",
    "if not target_map_id:\n",
    "    print(\"could not find any target map candidate\")\n",
    "    exit(-1)\n",
    "\n",
    "print(f\"{target_map_id=}\")\n",
    "await client.switch_map(target_map_id)"
   ]
  },
  {
   "cell_type": "markdown",
   "id": "c7736605-86d2-4644-a8c7-c5330b27f0c4",
   "metadata": {},
   "source": [
    "現在選択されている地図のIDを読み取って、実際に地図が切り替わっていることを確認しましょう。"
   ]
  },
  {
   "cell_type": "code",
   "execution_count": 9,
   "id": "aa4cb76b-a352-4474-b43d-49f6089693ee",
   "metadata": {},
   "outputs": [
    {
     "name": "stdout",
     "output_type": "stream",
     "text": [
      "current_map_id='6525b9f1-3bef-42cf-bb7d-27d4bc74bc6c'\n"
     ]
    }
   ],
   "source": [
    "current_map_id = await client.get_current_map_id()\n",
    "print(f\"{current_map_id=}\")"
   ]
  },
  {
   "cell_type": "markdown",
   "id": "c5763be9-6b56-438c-89f8-bab251f91fea",
   "metadata": {},
   "source": [
    "地図を切り替えたときの初期姿勢を明示することもできます。"
   ]
  },
  {
   "cell_type": "code",
   "execution_count": 24,
   "id": "8aed79d5-4988-4521-bf34-8c452a5a3035",
   "metadata": {},
   "outputs": [
    {
     "data": {
      "text/plain": [
       "success: true"
      ]
     },
     "execution_count": 24,
     "metadata": {},
     "output_type": "execute_result"
    }
   ],
   "source": [
    "from kachaka_api.generated.kachaka_api_pb2 import Pose\n",
    "\n",
    "pose = Pose(x=0.0, y=0.0, theta=0.0)\n",
    "\n",
    "target_map_id = await find_target_map_id(client)\n",
    "if not target_map_id:\n",
    "    print(\"could not find any target map candidate\")\n",
    "    exit(-1)\n",
    "\n",
    "print(f\"{target_map_id=}\")\n",
    "await client.switch_map(target_map_id, pose=pose)"
   ]
  },
  {
   "cell_type": "markdown",
   "id": "7845717b-bbad-4a8b-92e3-41c2a04848ac",
   "metadata": {},
   "source": [
    "実際に地図が切り替わっていることを確認しましょう。"
   ]
  },
  {
   "cell_type": "code",
   "execution_count": 25,
   "id": "a9d7930d-973c-49f0-aad8-6d263bacd828",
   "metadata": {},
   "outputs": [
    {
     "name": "stdout",
     "output_type": "stream",
     "text": [
      "current_map_id='a7a9a26d-4193-4e3d-a080-34e7e92c9508'\n"
     ]
    }
   ],
   "source": [
    "current_map_id = await client.get_current_map_id()\n",
    "print(f\"{current_map_id=}\")"
   ]
  },
  {
   "cell_type": "code",
   "execution_count": null,
   "id": "4bfac442-c7b4-4831-a231-9e3a9e836ea2",
   "metadata": {},
   "outputs": [],
   "source": []
  }
 ],
 "metadata": {
  "kernelspec": {
   "display_name": "Python 3 (ipykernel)",
   "language": "python",
   "name": "python3"
  },
  "language_info": {
   "codemirror_mode": {
    "name": "ipython",
    "version": 3
   },
   "file_extension": ".py",
   "mimetype": "text/x-python",
   "name": "python",
   "nbconvert_exporter": "python",
   "pygments_lexer": "ipython3",
   "version": "3.12.2"
  }
 },
 "nbformat": 4,
 "nbformat_minor": 5
}
