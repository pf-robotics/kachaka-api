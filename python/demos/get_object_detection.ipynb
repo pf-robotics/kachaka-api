{
 "cells": [
  {
   "cell_type": "markdown",
   "id": "4bcba01b-7d02-4d53-84b1-e5d71ae5b8f5",
   "metadata": {},
   "source": [
    "# 画像による物体検出\n",
    "\n",
    "Matplotlib と Pillow のインストールを行うコマンドが入っています。一度実行した後はこの処理はスキップ可能です。初回インストール後にkernelの再起動が必要です。"
   ]
  },
  {
   "cell_type": "code",
   "execution_count": null,
   "id": "40484742-fd4e-4b03-801d-e90677b8828c",
   "metadata": {},
   "outputs": [],
   "source": [
    "!pip install -q matplotlib Pillow"
   ]
  },
  {
   "cell_type": "code",
   "execution_count": null,
   "id": "687f8e66-e499-45b9-87d3-ec104b89ad61",
   "metadata": {},
   "outputs": [],
   "source": [
    "%run setup_demo_env.py"
   ]
  },
  {
   "cell_type": "code",
   "execution_count": null,
   "id": "8d08024f-7938-4a12-8e9b-a24229816b10",
   "metadata": {},
   "outputs": [],
   "source": [
    "import asyncio\n",
    "import io\n",
    "\n",
    "import grpc\n",
    "import kachaka_api\n",
    "import matplotlib.patches as patches\n",
    "import matplotlib.pyplot as plt\n",
    "from IPython.display import Image, clear_output\n",
    "from PIL import Image\n",
    "\n",
    "client = kachaka_api.aio.KachakaApiClient()\n",
    "\n",
    "LABEL_NAME = [\"?\", \"person\", \"shelf\", \"charger\", \"door\"]\n",
    "LABEL_COLOR = [\"pink\", \"green\", \"blue\", \"cyan\", \"red\"]\n",
    "\n",
    "stream_i = client.front_camera_ros_compressed_image.stream()\n",
    "stream_d = client.object_detection.stream()\n",
    "\n",
    "while True:\n",
    "    resp_i, resp_d = await asyncio.gather(anext(stream_i), anext(stream_d))\n",
    "\n",
    "    clear_output(wait=True)\n",
    "    fig, ax = plt.subplots(1)\n",
    "\n",
    "    img = Image.open(io.BytesIO(resp_i.data))\n",
    "    ax.imshow(img)\n",
    "\n",
    "    objects = resp_d[1]\n",
    "    for obj in objects:\n",
    "        x, y, w, h = obj.roi.x_offset, obj.roi.y_offset, obj.roi.width, obj.roi.height\n",
    "        rect = patches.Rectangle(\n",
    "            (x, y),\n",
    "            w,\n",
    "            h,\n",
    "            linewidth=2,\n",
    "            edgecolor=LABEL_COLOR[obj.label],\n",
    "            facecolor=\"none\",\n",
    "        )\n",
    "        ax.add_patch(rect)\n",
    "        label = f\"{LABEL_NAME[obj.label]}, score={obj.score:.2f}\"\n",
    "        plt.text(x, y + h, label, color=\"white\", backgroundcolor=\"grey\")\n",
    "\n",
    "    plt.axis(\"off\")\n",
    "    plt.show()"
   ]
  }
 ],
 "metadata": {
  "kernelspec": {
   "display_name": "Python 3 (ipykernel)",
   "language": "python",
   "name": "python3"
  },
  "language_info": {
   "codemirror_mode": {
    "name": "ipython",
    "version": 3
   },
   "file_extension": ".py",
   "mimetype": "text/x-python",
   "name": "python",
   "nbconvert_exporter": "python",
   "pygments_lexer": "ipython3",
   "version": "3.10.12"
  }
 },
 "nbformat": 4,
 "nbformat_minor": 5
}
