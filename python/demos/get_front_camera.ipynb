{
 "cells": [
  {
   "cell_type": "markdown",
   "id": "4bcba01b-7d02-4d53-84b1-e5d71ae5b8f5",
   "metadata": {},
   "source": [
    "# カメラ画像の取得"
   ]
  },
  {
   "cell_type": "code",
   "execution_count": null,
   "id": "8d08024f-7938-4a12-8e9b-a24229816b10",
   "metadata": {},
   "outputs": [],
   "source": [
    "import cv2\n",
    "import kachaka_api\n",
    "import numpy as np\n",
    "from IPython.display import Image, display"
   ]
  },
  {
   "cell_type": "code",
   "execution_count": null,
   "id": "ad074c66-1ac6-4888-8536-31da6c52a647",
   "metadata": {},
   "outputs": [],
   "source": [
    "client = kachaka_api.aio.KachakaApiClient()"
   ]
  },
  {
   "cell_type": "markdown",
   "id": "25850926-7e13-4b7f-81c2-ab982220da3b",
   "metadata": {},
   "source": [
    "# 圧縮画像の取得"
   ]
  },
  {
   "cell_type": "code",
   "execution_count": null,
   "id": "6180794e-d907-49f4-8906-650c10f32e15",
   "metadata": {},
   "outputs": [],
   "source": [
    "compressed_stream = client.front_camera_ros_compressed_image.stream()\n",
    "compressed_image = await compressed_stream.__anext__()\n",
    "display(Image(data=compressed_image.data, format=\"jpeg\"))"
   ]
  },
  {
   "cell_type": "markdown",
   "id": "60040386-520e-4bc2-82a4-d69e36b33c29",
   "metadata": {},
   "source": [
    "# 生画像の取得"
   ]
  },
  {
   "cell_type": "code",
   "execution_count": null,
   "id": "19779c34-80bc-4391-9ba3-cc7c4508eee2",
   "metadata": {},
   "outputs": [],
   "source": [
    "stream = client.front_camera_ros_image.stream()\n",
    "image = await stream.__anext__()\n",
    "np_image = np.ndarray(\n",
    "    shape=(image.height, image.width, 3),\n",
    "    dtype=np.uint8,\n",
    "    buffer=image.data,\n",
    ")\n",
    "# 圧縮画像として表示\n",
    "_, ret = cv2.imencode(\".jpg\", np_image[..., ::-1])\n",
    "display(Image(data=ret, format=\"jpeg\"))"
   ]
  }
 ],
 "metadata": {
  "kernelspec": {
   "display_name": "Python 3 (ipykernel)",
   "language": "python",
   "name": "python3"
  },
  "language_info": {
   "codemirror_mode": {
    "name": "ipython",
    "version": 3
   },
   "file_extension": ".py",
   "mimetype": "text/x-python",
   "name": "python",
   "nbconvert_exporter": "python",
   "pygments_lexer": "ipython3",
   "version": "3.10.12"
  }
 },
 "nbformat": 4,
 "nbformat_minor": 5
}
