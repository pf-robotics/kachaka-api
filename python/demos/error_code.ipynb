{
 "cells": [
  {
   "cell_type": "markdown",
   "id": "6ded05f1-a5f2-49d3-9db3-0a42d250a315",
   "metadata": {},
   "source": [
    "# カチャカのエラー取得\n",
    "\n",
    "カチャカのエラーには２種類あります。\n",
    "\n",
    "* API呼び出しに対する同期エラー\n",
    "* API呼び出しに対応しない非同期エラー ... 故障検知、一時停止状態、など\n",
    "\n",
    "ここでは、エラーコードの詳細テーブルと、非同期エラーの取得方法を示します。\n",
    "\n",
    "このNotebookを実行すると、エラーコードの詳細テーブルが表示され、その下に現在の非同期エラーの値（通常は \"No error\"）が表示されます。\n",
    "その状態でカチャカの電源ボタンを押すと一時停止状態を切り替えることができるので、非同期エラーの値が変わるのが確認できると思います。"
   ]
  },
  {
   "cell_type": "code",
   "execution_count": null,
   "id": "b66b9497-256c-462d-8e81-55e099d890f9",
   "metadata": {},
   "outputs": [],
   "source": [
    "import kachaka_api\n",
    "\n",
    "client = kachaka_api.aio.KachakaApiClient()\n",
    "error_code = await client.get_robot_error_code()"
   ]
  },
  {
   "cell_type": "code",
   "execution_count": null,
   "id": "39fd97e9-6dc3-4a26-b461-680fc19ac953",
   "metadata": {},
   "outputs": [],
   "source": [
    "from IPython.display import HTML, display\n",
    "\n",
    "html = \"<div style='max-height: 30em; overflow: scroll;'><table><tr><th>code</th><th>error type</th><th>title (ja)</th><th>description (ja)</th><th>title (en)</th><th>description (en)</th></tr>\"\n",
    "for code, value in error_code.items():\n",
    "    html += f\"<tr><td>{code}</td><td>{value.error_type}</td><td>{value.title}</td><td>{value.description}</td><td>{value.title_en}</td><td>{value.description_en}</td></tr>\"\n",
    "html += \"</table></div>\"\n",
    "\n",
    "display(HTML(html))"
   ]
  },
  {
   "cell_type": "code",
   "execution_count": null,
   "id": "71206e4b-2ea4-4edf-bb92-1a94d16726b0",
   "metadata": {},
   "outputs": [],
   "source": [
    "async for errors in client.error.stream():\n",
    "    if errors:\n",
    "        for code in errors:\n",
    "            err = error_code[code]\n",
    "            print(f\" * error_code = {err.code}\")\n",
    "            print(f\"      title = {err.title} ({err.title_en})\")\n",
    "            print(f\"      description = {err.description} ({err.description_en})\")\n",
    "    else:\n",
    "        print(\" * No error\")\n",
    "    print(\"Waiting for next error．．．\")"
   ]
  },
  {
   "cell_type": "code",
   "execution_count": null,
   "id": "375417be-44b7-4368-9719-8d1348d5211c",
   "metadata": {},
   "outputs": [],
   "source": []
  }
 ],
 "metadata": {
  "kernelspec": {
   "display_name": "Python 3 (ipykernel)",
   "language": "python",
   "name": "python3"
  },
  "language_info": {
   "codemirror_mode": {
    "name": "ipython",
    "version": 3
   },
   "file_extension": ".py",
   "mimetype": "text/x-python",
   "name": "python",
   "nbconvert_exporter": "python",
   "pygments_lexer": "ipython3",
   "version": "3.10.12"
  }
 },
 "nbformat": 4,
 "nbformat_minor": 5
}
