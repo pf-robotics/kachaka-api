{
 "cells": [
  {
   "cell_type": "markdown",
   "id": "5ee3b59c-8bcf-4764-812e-e2c45ebdaca2",
   "metadata": {},
   "source": [
    "# マップとロボットの姿勢、LiDARの描画、マップ上の位置への移動"
   ]
  },
  {
   "cell_type": "markdown",
   "id": "0fd676e8",
   "metadata": {},
   "source": [
    "jupyterのextension のインストールを行います。一度実行した後はこの処理はスキップ可能です。初回インストール後にkernelの再起動と、ページのリロードが必要です。"
   ]
  },
  {
   "cell_type": "code",
   "execution_count": null,
   "id": "a543e901",
   "metadata": {},
   "outputs": [],
   "source": [
    "!jupyter labextension install @jupyter-widgets/jupyterlab-manager jupyter-matplotlib"
   ]
  },
  {
   "cell_type": "code",
   "execution_count": null,
   "id": "1b81b3c6-ae9c-49ae-8455-0825eb79d92c",
   "metadata": {},
   "outputs": [],
   "source": [
    "import kachaka_api\n",
    "\n",
    "client = kachaka_api.KachakaApiClient()"
   ]
  },
  {
   "cell_type": "code",
   "execution_count": null,
   "id": "9c713d25-36a6-4485-9bdf-2c2081f401cf",
   "metadata": {},
   "outputs": [],
   "source": [
    "import io\n",
    "from math import atan2, radians\n",
    "\n",
    "import matplotlib.patches as patches\n",
    "import matplotlib.pyplot as plt\n",
    "import numpy as np\n",
    "from kachaka_api.util.geometry import MapImage2DGeometry\n",
    "from matplotlib.animation import FuncAnimation\n",
    "from matplotlib.transforms import Affine2D\n",
    "from PIL import Image"
   ]
  },
  {
   "cell_type": "markdown",
   "id": "32819421-c233-4b70-b61d-ad0a8c8dce86",
   "metadata": {},
   "source": [
    "#### ロボット描画関数定義"
   ]
  },
  {
   "cell_type": "code",
   "execution_count": null,
   "id": "fa40591c-ae1c-4157-a5be-6c272adcd95e",
   "metadata": {},
   "outputs": [],
   "source": [
    "# ros2/kachaka_description/robot/kachaka.urdf からサイズ等をピックアップ\n",
    "ROBOT_SIZE_X = 0.389\n",
    "ROBOT_SIZE_Y = 0.24\n",
    "BASE_FOOTPRINT_TO_BODY_RECT_ORIGIN = Affine2D().translate(-0.15, -ROBOT_SIZE_Y / 2)\n",
    "BASE_FOOTPRINT_TO_LASER_FRAME = Affine2D().rotate(radians(90)).translate(0.156, 0)\n",
    "\n",
    "\n",
    "def draw_robot(ax, fig_origin_to_base_footprint):\n",
    "    # draw body\n",
    "    return [\n",
    "        ax.add_patch(\n",
    "            patches.Rectangle(\n",
    "                (0, 0),\n",
    "                ROBOT_SIZE_X,\n",
    "                ROBOT_SIZE_Y,\n",
    "                facecolor=\"gray\",\n",
    "                transform=BASE_FOOTPRINT_TO_BODY_RECT_ORIGIN\n",
    "                + fig_origin_to_base_footprint,\n",
    "            )\n",
    "        ),\n",
    "        # draw LED ring\n",
    "        ax.add_patch(\n",
    "            patches.Circle(\n",
    "                (0, 0),\n",
    "                radius=0.045,\n",
    "                facecolor=\"gray\",\n",
    "                edgecolor=\"white\",\n",
    "                transform=BASE_FOOTPRINT_TO_LASER_FRAME + fig_origin_to_base_footprint,\n",
    "            )\n",
    "        ),\n",
    "    ]\n",
    "\n",
    "\n",
    "def draw_scan(ax, fig_origin_to_base_footprint, scan):\n",
    "    theta = np.linspace(scan.angle_min, scan.angle_max, len(scan.ranges))\n",
    "    dist = np.array(scan.ranges)\n",
    "    return ax.scatter(\n",
    "        dist * np.cos(theta),\n",
    "        dist * np.sin(theta),\n",
    "        c=\"red\",\n",
    "        s=1,\n",
    "        transform=BASE_FOOTPRINT_TO_LASER_FRAME + fig_origin_to_base_footprint,\n",
    "    )"
   ]
  },
  {
   "cell_type": "markdown",
   "id": "023a7234-a2d5-4596-9ec2-6c900136f56a",
   "metadata": {},
   "source": [
    "#### マップ画像の取得"
   ]
  },
  {
   "cell_type": "code",
   "execution_count": null,
   "id": "a30f23f7-78b0-4573-b2a9-3faab5040178",
   "metadata": {},
   "outputs": [],
   "source": [
    "png_map = client.get_png_map()\n",
    "png_map_img = Image.open(io.BytesIO(png_map.data))"
   ]
  },
  {
   "cell_type": "markdown",
   "id": "892a611f-56bf-44d0-a442-c97931b2c1f1",
   "metadata": {},
   "source": [
    "#### 描画\n",
    "クリックした位置にカチャカが移動します。"
   ]
  },
  {
   "cell_type": "code",
   "execution_count": null,
   "id": "1bbc70fa-dc62-440f-a61b-78906cd8843a",
   "metadata": {},
   "outputs": [],
   "source": [
    "%matplotlib widget\n",
    "\n",
    "fig, ax = plt.subplots(figsize=(10, 10))\n",
    "ax.set_xlabel(\"x\")\n",
    "ax.set_ylabel(\"y\")\n",
    "drawn_artists = []\n",
    "\n",
    "map_image_2d_geometry = MapImage2DGeometry(png_map)\n",
    "\n",
    "\n",
    "def update_plot(frame):\n",
    "    while drawn_artists:\n",
    "        drawn_artists.pop().remove()\n",
    "\n",
    "    # ロボットを描画\n",
    "    robot_pose = client.get_robot_pose()\n",
    "    image_origin_to_robot = Affine2D(\n",
    "        map_image_2d_geometry.calculate_robot_pose_matrix_in_pixel(robot_pose)\n",
    "    )\n",
    "    robot_artists = draw_robot(ax, image_origin_to_robot + ax.transData)\n",
    "    # scanを描画\n",
    "    scan = client.get_ros_laser_scan()\n",
    "    scan_artist = draw_scan(ax, image_origin_to_robot + ax.transData, scan)\n",
    "\n",
    "    drawn_artists.extend(robot_artists)\n",
    "    drawn_artists.append(scan_artist)\n",
    "\n",
    "\n",
    "last_target = None\n",
    "\n",
    "\n",
    "def onclick(event):\n",
    "    global last_target\n",
    "    if last_target:\n",
    "        last_target.remove()\n",
    "    last_target = ax.scatter(event.xdata, event.ydata)\n",
    "    # clickされた位置に移動\n",
    "    pixel_xy = (event.xdata, event.ydata)\n",
    "    angle = 0\n",
    "    pose_mat = map_image_2d_geometry.calculate_robot_pose_matrix_from_pixel(\n",
    "        pixel_xy, angle\n",
    "    )\n",
    "    client.move_to_pose(\n",
    "        x=pose_mat[0, 2],\n",
    "        y=pose_mat[1, 2],\n",
    "        yaw=atan2(pose_mat[1][0], pose_mat[0][0]),\n",
    "        wait_for_completion=False,\n",
    "    )\n",
    "\n",
    "\n",
    "ax.imshow(png_map_img)\n",
    "fig.canvas.mpl_connect(\"button_press_event\", onclick)\n",
    "# 60秒間ロボットを描画する\n",
    "func_animation = FuncAnimation(fig, update_plot, interval=100, frames=600, repeat=False)\n",
    "plt.show()"
   ]
  },
  {
   "cell_type": "code",
   "execution_count": null,
   "id": "05794e54-1d88-4cd1-af33-d25fcec7f698",
   "metadata": {},
   "outputs": [],
   "source": [
    "plt.close()"
   ]
  }
 ],
 "metadata": {
  "kernelspec": {
   "display_name": "Python 3 (ipykernel)",
   "language": "python",
   "name": "python3"
  },
  "language_info": {
   "codemirror_mode": {
    "name": "ipython",
    "version": 3
   },
   "file_extension": ".py",
   "mimetype": "text/x-python",
   "name": "python",
   "nbconvert_exporter": "python",
   "pygments_lexer": "ipython3",
   "version": "3.10.12"
  }
 },
 "nbformat": 4,
 "nbformat_minor": 5
}
