{
 "cells": [
  {
   "cell_type": "markdown",
   "id": "4bcba01b-7d02-4d53-84b1-e5d71ae5b8f5",
   "metadata": {},
   "source": [
    "# LiDAR の取得\n",
    "\n",
    "Matplotlib のインストールを行うコマンドが入っています。一度実行した後はこの処理はスキップ可能です。初回インストール後にkernelの再起動が必要です。"
   ]
  },
  {
   "cell_type": "code",
   "execution_count": null,
   "id": "8d08024f-7938-4a12-8e9b-a24229816b10",
   "metadata": {},
   "outputs": [],
   "source": [
    "import math\n",
    "\n",
    "import kachaka_api\n",
    "import matplotlib.patches as patches\n",
    "import matplotlib.pyplot as plt\n",
    "from IPython.display import Image, clear_output\n",
    "\n",
    "client = kachaka_api.aio.KachakaApiClient()\n",
    "await client.set_manual_control_enabled(True)\n",
    "\n",
    "async for scan in client.ros_laser_scan.stream():\n",
    "    clear_output(wait=True)\n",
    "    fig = plt.figure(figsize=(5, 5))\n",
    "\n",
    "    n = len(scan.ranges)\n",
    "    x = list(range(n))\n",
    "    y = list(range(n))\n",
    "    for i in range(n):\n",
    "        theta = scan.angle_min + scan.angle_increment * i\n",
    "        x[i] = scan.ranges[i] * math.cos(theta)\n",
    "        y[i] = scan.ranges[i] * math.sin(theta)\n",
    "\n",
    "    plt.plot(0, 0, \"o\", color=\"black\")\n",
    "    plt.plot(x, y, \".\")\n",
    "    plt.xlim(-6.0, 6.0)\n",
    "    plt.ylim(-6.0, 6.0)\n",
    "    plt.grid(True)\n",
    "    plt.gca().set_aspect(\"equal\", adjustable=\"box\")\n",
    "    plt.show()"
   ]
  }
 ],
 "metadata": {
  "kernelspec": {
   "display_name": "Python 3 (ipykernel)",
   "language": "python",
   "name": "python3"
  },
  "language_info": {
   "codemirror_mode": {
    "name": "ipython",
    "version": 3
   },
   "file_extension": ".py",
   "mimetype": "text/x-python",
   "name": "python",
   "nbconvert_exporter": "python",
   "pygments_lexer": "ipython3",
   "version": "3.10.12"
  }
 },
 "nbformat": 4,
 "nbformat_minor": 5
}
