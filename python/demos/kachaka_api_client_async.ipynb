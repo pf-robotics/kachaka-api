{
 "cells": [
  {
   "cell_type": "markdown",
   "id": "970f7890-f7fd-41ce-9f87-1b963c52288f",
   "metadata": {},
   "source": [
    "# kachaka_apiライブラリ\n",
    "\n",
    "- kachaka_apiライブラリは、gRPCでの通信を意識することなくカチャカのAPIを使うことができるようにしたものです。\n",
    "\n",
    "## 非同期ライブラリについて\n",
    "- このサンプルでは、kachaka_api.aio.KachakaApiClientクラスを用いて、カチャカのAPIをメソッド呼びだしの形で実行していきます。\n",
    "- 同期のライブラリも用意されています。詳細は、[同期ライブラリ篇](./sample_kachaka_api_client.ipynb)を参照してください。"
   ]
  },
  {
   "cell_type": "markdown",
   "id": "8ddf4a69-71b7-44ce-97f6-6deda8b407d4",
   "metadata": {},
   "source": [
    "#### 依存ライブラリのインストール\n",
    "- デフォルトではmatploblib, numpyはインストールされていません。必要に応じてインストールします。\n",
    "- pip installの実行後は、JupyterLabのカーネルをリスタートしてください"
   ]
  },
  {
   "cell_type": "code",
   "execution_count": null,
   "id": "570adfd8-b287-4c90-b08d-81cd8deb3e56",
   "metadata": {},
   "outputs": [],
   "source": [
    "%pip install -q matplotlib numpy\n",
    "import matplotlib.pyplot as plt\n",
    "import numpy as np\n",
    "from IPython.display import Image, display"
   ]
  },
  {
   "cell_type": "markdown",
   "id": "3e5658fe-4163-44fd-8eb3-869ea763853a",
   "metadata": {},
   "source": [
    "## インポートとクライアントの作成\n",
    "- クライアントを作成します。1度だけでOKです。\n",
    "- 引数に`<カチャカのIPアドレス:26400>`を指定することで、本ライブラリを外部のPC等で利用することが可能です"
   ]
  },
  {
   "cell_type": "code",
   "execution_count": null,
   "id": "1b81b3c6-ae9c-49ae-8455-0825eb79d92c",
   "metadata": {},
   "outputs": [],
   "source": [
    "import kachaka_api\n",
    "\n",
    "client = kachaka_api.aio.KachakaApiClient()"
   ]
  },
  {
   "cell_type": "markdown",
   "id": "d08d4bb8-243d-4da4-a961-7acfdd7f1c91",
   "metadata": {},
   "source": [
    "## 各APIの実行\n",
    "\n",
    "- 以下では、各APIを実行するサンプルを提供します。"
   ]
  },
  {
   "cell_type": "markdown",
   "id": "f21bf4f1-c1e4-4c0f-90d9-4dcdc3bf9b16",
   "metadata": {},
   "source": [
    "### ロボットの個体情報の取得"
   ]
  },
  {
   "cell_type": "markdown",
   "id": "a2e000f4-8832-4dee-8d18-22a98ddc7640",
   "metadata": {},
   "source": [
    "#### ロボットのシリアル番号の取得"
   ]
  },
  {
   "cell_type": "code",
   "execution_count": null,
   "id": "aca57ae0-dce0-424b-bbc3-de1a15150bd6",
   "metadata": {},
   "outputs": [],
   "source": [
    "await client.get_robot_serial_number()"
   ]
  },
  {
   "cell_type": "markdown",
   "id": "a33ba0da-d197-4cf5-8995-388be5c894b5",
   "metadata": {},
   "source": [
    "#### カチャカのソフトウェアバージョン情報の取得"
   ]
  },
  {
   "cell_type": "code",
   "execution_count": null,
   "id": "c1573384-6dd7-4b42-b821-47d6ee505546",
   "metadata": {},
   "outputs": [],
   "source": [
    "await client.get_robot_version()"
   ]
  },
  {
   "cell_type": "markdown",
   "id": "0fe78765-735f-4c2f-90e9-4178382383f7",
   "metadata": {},
   "source": [
    "### コマンドの実行"
   ]
  },
  {
   "cell_type": "markdown",
   "id": "0f854eba-0dcb-486e-be49-9f04eb3fa14c",
   "metadata": {},
   "source": [
    "#### 目的地の情報一覧を取得\n",
    "- idは後述の関数で目的地を指定する際に使用します\n",
    "- poseの単位はロボットの姿勢同様にmおよびradianです"
   ]
  },
  {
   "cell_type": "code",
   "execution_count": null,
   "id": "20581b1e-816c-40a7-b213-c73874b4a7ff",
   "metadata": {},
   "outputs": [],
   "source": [
    "await client.get_locations()"
   ]
  },
  {
   "cell_type": "markdown",
   "id": "af6568b4-6dc7-481e-b43d-c910b11678f3",
   "metadata": {},
   "source": [
    "#### デフォルト目的地のID取得\n",
    "- デフォルト目的地は、「〇〇を持ってきて」と目的地が省略された場合に使用されます"
   ]
  },
  {
   "cell_type": "code",
   "execution_count": null,
   "id": "58a89ce3-7d5e-4ab6-8bec-bf8f87a7dfb0",
   "metadata": {},
   "outputs": [],
   "source": [
    "await client.get_default_location_id()"
   ]
  },
  {
   "cell_type": "markdown",
   "id": "f0ff7f73-0c8f-4be6-b4dc-31ea6725a3a7",
   "metadata": {},
   "source": [
    "#### 家具情報一覧の取得\n",
    "- idは後述の関数で家具を指定する際に使用します\n",
    "- poseの単位はロボットの姿勢同様にmおよびradianです"
   ]
  },
  {
   "cell_type": "code",
   "execution_count": null,
   "id": "631ef261-b901-4027-ac52-9b54745c542f",
   "metadata": {},
   "outputs": [],
   "source": [
    "await client.get_shelves()"
   ]
  },
  {
   "cell_type": "markdown",
   "id": "69d703e6-5d74-4a5b-abab-29aa70107c46",
   "metadata": {},
   "source": [
    "#### 家具の移動\n",
    "- 家具ID, 目的地IDを指定すると、指定した家具を目的地へ運びます。\n",
    "- IDの一覧は、それぞれ前述のget_shelves(), get_locations()で取得できます。"
   ]
  },
  {
   "cell_type": "code",
   "execution_count": null,
   "id": "75404ccd-a3a0-4c7a-aeee-dfe822429085",
   "metadata": {},
   "outputs": [],
   "source": [
    "await client.move_shelf(\"S01\", \"L01\")"
   ]
  },
  {
   "cell_type": "markdown",
   "id": "e9a04c38-095a-46f6-8911-f2ef1b9ef660",
   "metadata": {},
   "source": [
    "#### 家具および目的を名前で指定する\n",
    "* kachaka_apiライブラリでは家具、目的地の名前を指定してすることもできます。\n",
    "* 下記のように`update_resolver`を呼び出すことで名前テーブルを更新します。\n",
    "* 家具や目的地の増減があった場合は`update_resolver`を再度呼び出して反映する必要があります。"
   ]
  },
  {
   "cell_type": "code",
   "execution_count": null,
   "id": "e7ee4097-a5b2-49de-972f-64c923ba2bd8",
   "metadata": {},
   "outputs": [],
   "source": [
    "await client.update_resolver()\n",
    "await client.move_shelf(\"シェルフ\", \"ダイニング\")"
   ]
  },
  {
   "cell_type": "markdown",
   "id": "c95206be-c46f-496c-96ba-b144529c8ba6",
   "metadata": {},
   "source": [
    "#### 家具の片付け\n",
    "- 指定した家具を片付けます。"
   ]
  },
  {
   "cell_type": "code",
   "execution_count": null,
   "id": "18f85bae-81cf-41e1-ad53-123f7ced5beb",
   "metadata": {},
   "outputs": [],
   "source": [
    "await client.return_shelf(\"S01\")"
   ]
  },
  {
   "cell_type": "markdown",
   "id": "4c520ec3-f191-467d-99b8-3b91d6049241",
   "metadata": {},
   "source": [
    "- 引数を省略すると、いま載せている家具を片付けます。"
   ]
  },
  {
   "cell_type": "code",
   "execution_count": null,
   "id": "1cb243ca-b1d5-4bd9-8a52-e178ca08fd14",
   "metadata": {},
   "outputs": [],
   "source": [
    "await client.return_shelf()"
   ]
  },
  {
   "cell_type": "markdown",
   "id": "f81ef860-7f60-4b1c-aa69-91bd644a81b7",
   "metadata": {},
   "source": [
    "#### 家具を置く\n",
    "- 載せている家具をその場に置きます。"
   ]
  },
  {
   "cell_type": "code",
   "execution_count": null,
   "id": "edd919e8-7be2-4a3a-a798-bb2b3099c27c",
   "metadata": {},
   "outputs": [],
   "source": [
    "await client.undock_shelf()"
   ]
  },
  {
   "cell_type": "markdown",
   "id": "1845b918-4fe9-4116-80c0-b512ce85adf9",
   "metadata": {},
   "source": [
    "#### 目的地への移動"
   ]
  },
  {
   "cell_type": "code",
   "execution_count": null,
   "id": "f8a72794-2518-4237-a6ac-486440618f54",
   "metadata": {},
   "outputs": [],
   "source": [
    "await client.move_to_location(\"L01\")"
   ]
  },
  {
   "cell_type": "markdown",
   "id": "0359e4cc-4e4b-4d9c-b908-689bf945700c",
   "metadata": {},
   "source": [
    "#### 充電ドックに行く"
   ]
  },
  {
   "cell_type": "code",
   "execution_count": null,
   "id": "e2237bc0-4d15-4b30-8c62-678647133963",
   "metadata": {},
   "outputs": [],
   "source": [
    "await client.return_home()"
   ]
  },
  {
   "cell_type": "markdown",
   "id": "aec996bb-fc2d-4459-94ad-63506513f186",
   "metadata": {},
   "source": [
    "#### 家具を載せる\n",
    "- カチャカの前にある家具を載せます"
   ]
  },
  {
   "cell_type": "code",
   "execution_count": null,
   "id": "90ddb574-7dae-452a-8781-86bd409d0d68",
   "metadata": {},
   "outputs": [],
   "source": [
    "await client.dock_shelf()"
   ]
  },
  {
   "cell_type": "markdown",
   "id": "cbece45f-8650-47ee-8de5-bc24ecfa396b",
   "metadata": {},
   "source": [
    "#### 音声の発話"
   ]
  },
  {
   "cell_type": "code",
   "execution_count": null,
   "id": "24b2bed6-3a35-4bbf-8055-f0085c82ff6e",
   "metadata": {},
   "outputs": [],
   "source": [
    "await client.speak(\"こんにちは、カチャカです\")"
   ]
  },
  {
   "cell_type": "markdown",
   "id": "2f668838-c057-4fd8-a9f7-9d6349c5f176",
   "metadata": {},
   "source": [
    "#### マップ上での座標を指定した移動"
   ]
  },
  {
   "cell_type": "code",
   "execution_count": null,
   "id": "1eb0c83b-926b-4355-b476-04d59c381545",
   "metadata": {},
   "outputs": [],
   "source": [
    "await client.move_to_pose(0.5, 0.0, 0)"
   ]
  },
  {
   "cell_type": "markdown",
   "id": "84405186-9cd4-4b59-b97a-b0f3d2e9b410",
   "metadata": {},
   "source": [
    "#### 実行中のコマンドのキャンセル"
   ]
  },
  {
   "cell_type": "code",
   "execution_count": null,
   "id": "7406f319-9698-42d4-9e17-d60a4b7dc10d",
   "metadata": {},
   "outputs": [],
   "source": [
    "await client.cancel_command()"
   ]
  },
  {
   "cell_type": "markdown",
   "id": "f6ada5b1-6af2-47bf-a66b-6f1a352b4123",
   "metadata": {},
   "source": [
    "#### 実行中のコマンドの状態の取得\n",
    "- コマンドが実行中かどうか調べる"
   ]
  },
  {
   "cell_type": "code",
   "execution_count": null,
   "id": "94d4bbd0-c5d8-4eeb-a783-ab37da0a1ccb",
   "metadata": {},
   "outputs": [],
   "source": [
    "await client.is_command_running()"
   ]
  },
  {
   "cell_type": "markdown",
   "id": "ef12cc30-0584-4605-bf0a-2009a17e71ba",
   "metadata": {},
   "source": [
    "- 実行中のコマンドを取得する"
   ]
  },
  {
   "cell_type": "code",
   "execution_count": null,
   "id": "7e29ca56-aaa3-404f-84d0-fa3fb7e6d8be",
   "metadata": {},
   "outputs": [],
   "source": [
    "await client.get_running_command()"
   ]
  },
  {
   "cell_type": "markdown",
   "id": "5a7ee426-6289-41d3-829e-7b3b4c7c272c",
   "metadata": {},
   "source": [
    "#### 最後に実行されたコマンドの結果の取得"
   ]
  },
  {
   "cell_type": "code",
   "execution_count": null,
   "id": "854b0184-69ad-48ca-9819-4241b8e61c0b",
   "metadata": {},
   "outputs": [],
   "source": [
    "await client.get_last_command_result()"
   ]
  },
  {
   "cell_type": "markdown",
   "id": "09740165-8a49-4727-844e-7f19f2e1ffbc",
   "metadata": {},
   "source": [
    "#### コマンド実行履歴の取得"
   ]
  },
  {
   "cell_type": "code",
   "execution_count": null,
   "id": "b242a991-5a4b-4c86-a248-256846020af4",
   "metadata": {},
   "outputs": [],
   "source": [
    "await client.get_history_list()"
   ]
  },
  {
   "cell_type": "markdown",
   "id": "1c620ac0-194e-44f3-82eb-cf45ca67e1d9",
   "metadata": {},
   "source": [
    "#### 自動充電のオン・オフを切り替える\n",
    "- 一定時間速度指令を受け付けないとカチャカは自動で充電ステーションに戻ります。これを自動充電と呼びます"
   ]
  },
  {
   "cell_type": "code",
   "execution_count": null,
   "id": "1855f579-d4d0-44cf-b07a-96d22da2cd9d",
   "metadata": {},
   "outputs": [],
   "source": [
    "await client.set_auto_homing_enabled(True)"
   ]
  },
  {
   "cell_type": "markdown",
   "id": "b70a04af-5b98-41e8-bd95-e767b5a6ef02",
   "metadata": {},
   "source": [
    "### 速度指令"
   ]
  },
  {
   "cell_type": "markdown",
   "id": "85c39a60-d99c-44a3-870d-f8b2d2e16949",
   "metadata": {},
   "source": [
    "#### 手動操作モードへの変更\n",
    "- 速度を指令してカチャカを動かす場合は手動操縦モードに変更する必要があります。\n",
    "- 60秒経つと自動でオフになるため、必要に応じて定期的に有効にする必要があります。\n",
    "- 充電ドック上にいる場合は前に進んで充電ドックから出ます"
   ]
  },
  {
   "cell_type": "code",
   "execution_count": null,
   "id": "f05d02a1-fddf-48e1-b089-9efaadf2a6d0",
   "metadata": {},
   "outputs": [],
   "source": [
    "await client.set_manual_control_enabled(True)"
   ]
  },
  {
   "cell_type": "markdown",
   "id": "e5a8cc6c-0e34-40a4-8c19-469e1d024e27",
   "metadata": {},
   "source": [
    "#### 手動操縦モードの確認"
   ]
  },
  {
   "cell_type": "code",
   "execution_count": null,
   "id": "27abb6c5-5f21-4b1c-890f-7b8c4099b266",
   "metadata": {},
   "outputs": [],
   "source": [
    "await client.get_manual_control_enabled()"
   ]
  },
  {
   "cell_type": "markdown",
   "id": "9ee6d52a-c220-4ad0-91e5-7b6c7efd27b9",
   "metadata": {},
   "source": [
    "#### 速度指令\n",
    "- 指令した値は次の指令値が来るまで、もしくは0.3秒間経つまで保持されます\n",
    "- 単位はm/s、rad/sです"
   ]
  },
  {
   "cell_type": "code",
   "execution_count": null,
   "id": "93c1b26f-5120-4084-b3e7-4f9eda74df29",
   "metadata": {},
   "outputs": [],
   "source": [
    "for i in range(100):\n",
    "    await client.set_robot_velocity(0.0, 0.3)"
   ]
  },
  {
   "cell_type": "markdown",
   "id": "de448fce-8333-4878-b088-d91eaf2e9505",
   "metadata": {},
   "source": [
    "### 各種センサデータ等の取得"
   ]
  },
  {
   "cell_type": "markdown",
   "id": "50b2c468-43b0-4ba7-8152-b159e09244fa",
   "metadata": {},
   "source": [
    "#### マップ上の姿勢の取得\n",
    "- 単位はm, radianです"
   ]
  },
  {
   "cell_type": "code",
   "execution_count": null,
   "id": "00928761-3e13-42c4-9cdb-ad104c33d97b",
   "metadata": {},
   "outputs": [],
   "source": [
    "await client.get_robot_pose()"
   ]
  },
  {
   "cell_type": "markdown",
   "id": "023a7234-a2d5-4596-9ec2-6c900136f56a",
   "metadata": {},
   "source": [
    "#### マップ情報の取得\n",
    "- マップ画像とマップ座標との対応関係については、[plot_map_lidar.ipynb](./plot_map_lidar.ipynb) を参照"
   ]
  },
  {
   "cell_type": "code",
   "execution_count": null,
   "id": "a30f23f7-78b0-4573-b2a9-3faab5040178",
   "metadata": {},
   "outputs": [],
   "source": [
    "map = await client.get_png_map()\n",
    "print(map.name)\n",
    "print(map.resolution, map.width, map.height)\n",
    "print(map.origin)\n",
    "display(Image(data=map.data))"
   ]
  },
  {
   "cell_type": "markdown",
   "id": "866456e3-9efc-4f99-8ae7-e25ca74f92bb",
   "metadata": {},
   "source": [
    "#### LiDARの点群情報の取得\n",
    "- LiDARは充電ドック上にいる間は停止しており、データが更新されません\n"
   ]
  },
  {
   "cell_type": "code",
   "execution_count": null,
   "id": "7b7d1257-22ca-46bd-adb1-996b198a63fa",
   "metadata": {},
   "outputs": [],
   "source": [
    "scan = await client.get_ros_laser_scan()\n",
    "\n",
    "theta = np.linspace(scan.angle_min, scan.angle_max, len(scan.ranges))\n",
    "dist = np.array(scan.ranges)\n",
    "\n",
    "# LiDARの点群を表示するサンプル\n",
    "plt.scatter(dist * np.cos(theta), dist * np.sin(theta))"
   ]
  },
  {
   "cell_type": "markdown",
   "id": "f8613933-3e42-4e61-837b-a4b06779a78d",
   "metadata": {},
   "source": [
    "#### IMU情報の取得"
   ]
  },
  {
   "cell_type": "code",
   "execution_count": null,
   "id": "d953cc6a-4bce-4fa6-9a36-5b4fb3245e22",
   "metadata": {},
   "outputs": [],
   "source": [
    "await client.get_ros_imu()"
   ]
  },
  {
   "cell_type": "markdown",
   "id": "64f4a7d0-6d1a-4446-8365-70e800939908",
   "metadata": {},
   "source": [
    "#### オドメトリの取得"
   ]
  },
  {
   "cell_type": "code",
   "execution_count": null,
   "id": "15ef6009-95f9-4bd5-a594-06e6aa0a0f37",
   "metadata": {},
   "outputs": [],
   "source": [
    "await client.get_ros_odometry()"
   ]
  },
  {
   "cell_type": "markdown",
   "id": "477eb476-99e5-4998-a6da-76df2b8d6f5c",
   "metadata": {},
   "source": [
    "### カメラ関連"
   ]
  },
  {
   "cell_type": "markdown",
   "id": "b8d85f2e-788f-4461-a9a6-4b4c75647235",
   "metadata": {},
   "source": [
    "#### カメラ情報の取得"
   ]
  },
  {
   "cell_type": "code",
   "execution_count": null,
   "id": "b6faf056-bf28-4dea-88f3-612927e9114b",
   "metadata": {},
   "outputs": [],
   "source": [
    "await client.get_front_camera_ros_camera_info()"
   ]
  },
  {
   "cell_type": "markdown",
   "id": "6388dc9f-a373-4afc-bda0-b6a2472c0f77",
   "metadata": {},
   "source": [
    "#### フロントカメラ画像の取得"
   ]
  },
  {
   "cell_type": "code",
   "execution_count": null,
   "id": "23b8dbd4-9f49-4a1e-b45a-62cf5598de90",
   "metadata": {
    "scrolled": true
   },
   "outputs": [],
   "source": [
    "image = await client.get_front_camera_ros_compressed_image()\n",
    "display(Image(data=image.data, format=\"jpeg\"))"
   ]
  },
  {
   "cell_type": "markdown",
   "id": "51a5afa8-3c8c-4430-a5a9-a01d4f88e37c",
   "metadata": {},
   "source": [
    "- また、劣化の無いデータが必要な場合は`get_front_camera_ros_image`で取得する事が可能です。  \n",
    "- ただし、データ量が増加するため注意が必要です。\n",
    "- [get_front_camera_ros_image.ipynb](TODO)参照"
   ]
  },
  {
   "cell_type": "markdown",
   "id": "18b0f0e4-3531-4bea-93e9-8b9979f37062",
   "metadata": {},
   "source": [
    "#### 物体検出結果の取得\n",
    "- カメラで見えている物体(充電器, 家具, 人)の情報を取得します。\n",
    "- カメラを起動してから呼び出す必要があります。\n",
    "- 画像中への描画は[物体検出のサンプル](./get_object_detection.ipynb)参照"
   ]
  },
  {
   "cell_type": "code",
   "execution_count": null,
   "id": "16ca448f-ccc2-4fb7-9161-9b65004278b2",
   "metadata": {
    "scrolled": true
   },
   "outputs": [],
   "source": [
    "await client.get_object_detection()"
   ]
  }
 ],
 "metadata": {
  "kernelspec": {
   "display_name": "Python 3 (ipykernel)",
   "language": "python",
   "name": "python3"
  },
  "language_info": {
   "codemirror_mode": {
    "name": "ipython",
    "version": 3
   },
   "file_extension": ".py",
   "mimetype": "text/x-python",
   "name": "python",
   "nbconvert_exporter": "python",
   "pygments_lexer": "ipython3",
   "version": "3.10.12"
  }
 },
 "nbformat": 4,
 "nbformat_minor": 5
}
