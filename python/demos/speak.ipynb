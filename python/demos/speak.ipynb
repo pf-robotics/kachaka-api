{
 "cells": [
  {
   "cell_type": "markdown",
   "id": "6ded05f1-a5f2-49d3-9db3-0a42d250a315",
   "metadata": {},
   "source": [
    "# カチャカによる発話\n",
    "\n",
    "カチャカが指定した言葉を喋るサンプルプログラムです。"
   ]
  },
  {
   "cell_type": "code",
   "execution_count": null,
   "id": "b66b9497-256c-462d-8e81-55e099d890f9",
   "metadata": {},
   "outputs": [],
   "source": [
    "import kachaka_api\n",
    "\n",
    "client = kachaka_api.KachakaApiClient()\n",
    "client.speak(\"カチャカです、よろしくね！\")"
   ]
  }
 ],
 "metadata": {
  "kernelspec": {
   "display_name": "Python 3 (ipykernel)",
   "language": "python",
   "name": "python3"
  },
  "language_info": {
   "codemirror_mode": {
    "name": "ipython",
    "version": 3
   },
   "file_extension": ".py",
   "mimetype": "text/x-python",
   "name": "python",
   "nbconvert_exporter": "python",
   "pygments_lexer": "ipython3",
   "version": "3.10.12"
  }
 },
 "nbformat": 4,
 "nbformat_minor": 5
}
