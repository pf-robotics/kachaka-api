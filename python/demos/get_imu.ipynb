{
 "cells": [
  {
   "cell_type": "markdown",
   "id": "d69298cb-ac99-40ef-8231-830d975ead4a",
   "metadata": {},
   "source": [
    "# IMUの取得"
   ]
  },
  {
   "cell_type": "code",
   "execution_count": 3,
   "id": "3414574d-061c-4f2f-aa0a-0f352a5dd623",
   "metadata": {},
   "outputs": [
    {
     "data": {
      "application/vnd.jupyter.widget-view+json": {
       "model_id": "740a5232236348dcba1b670b444064c7",
       "version_major": 2,
       "version_minor": 0
      },
      "text/plain": [
       "FigureWidget({\n",
       "    'data': [{'type': 'scatter',\n",
       "              'uid': 'b141bafa-1ea7-4acb-9bc8-bf4c6ced492b',\n",
       "              'y': [0, 0, 0, 0, 0, 0, 0, 0, 0, 0, 0, 0, 0, 0, 0, 0, 0, 0, 0, 0, 0,\n",
       "                    0, 0, 0, 0, 0, 0, 0, 0, 0, 0, 0, 0, 0, 0, 0, 0, 0, 0, 0, 0, 0,\n",
       "                    0, 0, 0, 0, 0, 0, 0, 0, 0, 0, 0, 0, 0, 0, 0, 0, 0, 0, 0, 0, 0,\n",
       "                    0, 0, 0, 0, 0, 0, 0, 0, 0, 0, 0, 0, 0, 0, 0, 0, 0, 0, 0, 0, 0,\n",
       "                    0, 0, 0, 0, 0, 0, 0, 0, 0, 0, 0, 0, 0, 0, 0, 0]}],\n",
       "    'layout': {'template': '...', 'title': {'text': 'IMU acceleration x'}}\n",
       "})"
      ]
     },
     "execution_count": 3,
     "metadata": {},
     "output_type": "execute_result"
    }
   ],
   "source": [
    "import kachaka_api\n",
    "import plotly.graph_objects as go\n",
    "\n",
    "MAX_POINTS = 100\n",
    "\n",
    "f = go.FigureWidget()\n",
    "data = [0] * MAX_POINTS\n",
    "f.add_scatter(y=data)\n",
    "f.layout.title = \"IMU acceleration x\"\n",
    "f"
   ]
  },
  {
   "cell_type": "code",
   "execution_count": 4,
   "id": "7a026ab6-a718-48a2-a69a-e56df51ffb93",
   "metadata": {},
   "outputs": [],
   "source": [
    "client = kachaka_api.aio.KachakaApiClient()\n",
    "for i in range(100):\n",
    "    imu = await client.get_ros_imu()\n",
    "\n",
    "    data.append(imu.linear_acceleration.x)\n",
    "    del data[0]\n",
    "    f.data[0].y = data"
   ]
  }
 ],
 "metadata": {
  "kernelspec": {
   "display_name": "Python 3 (ipykernel)",
   "language": "python",
   "name": "python3"
  },
  "language_info": {
   "codemirror_mode": {
    "name": "ipython",
    "version": 3
   },
   "file_extension": ".py",
   "mimetype": "text/x-python",
   "name": "python",
   "nbconvert_exporter": "python",
   "pygments_lexer": "ipython3",
   "version": "3.10.12"
  }
 },
 "nbformat": 4,
 "nbformat_minor": 5
}
